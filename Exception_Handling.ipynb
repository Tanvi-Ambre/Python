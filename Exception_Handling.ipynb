{
  "nbformat": 4,
  "nbformat_minor": 0,
  "metadata": {
    "colab": {
      "provenance": [],
      "include_colab_link": true
    },
    "kernelspec": {
      "name": "python3",
      "display_name": "Python 3"
    },
    "language_info": {
      "name": "python"
    }
  },
  "cells": [
    {
      "cell_type": "markdown",
      "metadata": {
        "id": "view-in-github",
        "colab_type": "text"
      },
      "source": [
        "<a href=\"https://colab.research.google.com/github/Tanvi-Ambre/Python/blob/main/Exception_Handling.ipynb\" target=\"_parent\"><img src=\"https://colab.research.google.com/assets/colab-badge.svg\" alt=\"Open In Colab\"/></a>"
      ]
    },
    {
      "cell_type": "markdown",
      "metadata": {
        "id": "Z9RH5IBof-_n"
      },
      "source": [
        "## Exception"
      ]
    },
    {
      "cell_type": "code",
      "metadata": {
        "id": "9NGhq6MNBCdw"
      },
      "source": [
        "num_list = [5, 0, 2]\n",
        "\n",
        "for elem in num_list:     \n",
        "    result = 5/elem\n",
        "    print(\"The result of 5/\",elem, \"is\", result)\n",
        "  "
      ],
      "execution_count": null,
      "outputs": []
    },
    {
      "cell_type": "markdown",
      "metadata": {
        "id": "voTWk-RBgBvO"
      },
      "source": [
        "## Exception Handling"
      ]
    },
    {
      "cell_type": "code",
      "metadata": {
        "id": "PmF4TCYU549G"
      },
      "source": [
        "num_list = [5, 0, 2]\n",
        "\n",
        "for elem in num_list:\n",
        "    try:        \n",
        "        result = 5/elem\n",
        "        print(\"The result of 5/\", elem, \"is\", result)\n",
        "    except ZeroDivisionError:\n",
        "        print(\"Oops! An error!\")"
      ],
      "execution_count": null,
      "outputs": []
    }
  ]
}